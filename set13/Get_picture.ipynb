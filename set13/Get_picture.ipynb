{
 "cells": [
  {
   "cell_type": "code",
   "execution_count": 17,
   "id": "1fca4d96-154d-4ddc-b0ff-cbf240ab76f1",
   "metadata": {},
   "outputs": [],
   "source": [
    "from bs4 import BeautifulSoup\n",
    "import requests\n",
    "import json\n",
    "from collections import defaultdict\n",
    "import re\n",
    "import pandas as pd\n",
    "import random\n",
    "import os"
   ]
  },
  {
   "cell_type": "code",
   "execution_count": 20,
   "id": "ffb31093-5310-48cf-ab59-3f4f9dbbc795",
   "metadata": {},
   "outputs": [
    {
     "name": "stdout",
     "output_type": "stream",
     "text": [
      "4.12.3\n"
     ]
    }
   ],
   "source": [
    "import bs4\n",
    "print(bs4.__version__)"
   ]
  },
  {
   "cell_type": "code",
   "execution_count": 19,
   "id": "ccb9d575-bd0f-4beb-a637-5e3d44c8b813",
   "metadata": {},
   "outputs": [],
   "source": [
    "url = \"https://tftactics.gg/champions/\"\n",
    "res = requests.get(url)\n",
    "comm = re.compile(\"<!--|-->\")\n",
    "\n",
    "# BeautifulSoup zum Parsen nutzen\n",
    "soup = BeautifulSoup(comm.sub(\"\",res.text),'html')\n",
    "data = soup.find_all(\"div\", class_ = \"characters-list\")\n",
    "data = data[0].find_all(\"div\", class_ = \"character-wrapper\")\n",
    "new_list = []\n",
    "for png in data:\n",
    "    img_tag = png.find('img')  # Das <img> Tag finden\n",
    "    if img_tag and 'src' in img_tag.attrs:\n",
    "        link = img_tag['src']\n",
    "        new_list.append(link)\n",
    "\n",
    "names = []\n",
    "\n",
    "# Extrahieren des Namens aus jeder URL\n",
    "for url in new_list:\n",
    "    # Die URL nach '/' teilen und den letzten Teil (den Namen) extrahieren\n",
    "    name = url.split('/')[-1].split('.')[0]\n",
    "    names.append(name)\n",
    "\n",
    "# Neuer Ordnername\n",
    "folder_name = 'downloaded_images'\n",
    "\n",
    "# Ordner erstellen, falls er noch nicht existiert\n",
    "if not os.path.exists(folder_name):\n",
    "    os.makedirs(folder_name)\n",
    "\n",
    "# Bilder herunterladen und speichern\n",
    "for i in range(len(new_list)):\n",
    "    try:\n",
    "        # URL und Name extrahieren\n",
    "        url = new_list[i]\n",
    "        character_name = names[i]\n",
    "        \n",
    "        # Herunterladen des Bildes\n",
    "        response = requests.get(url)\n",
    "        \n",
    "        # Überprüfen, ob die Anfrage erfolgreich war (Statuscode 200)\n",
    "        if response.status_code == 200:\n",
    "            # Bilddateiname mit dem Namen aus der Liste (z.B. 'Akali.png')\n",
    "            file_name = os.path.join(folder_name, f\"{character_name}.png\")\n",
    "            \n",
    "            # Bild speichern\n",
    "            with open(file_name, 'wb') as file:\n",
    "                file.write(response.content)\n",
    "            #print(f\"Bild '{character_name}.png' erfolgreich heruntergeladen und gespeichert!\")\n",
    "        else:\n",
    "            print(f\"Fehler beim Herunterladen von {character_name}\")\n",
    "    \n",
    "    except Exception as e:\n",
    "        print(f\"Fehler bei Bild {character_name}: {e}\")\n",
    "\n",
    "print(\"Fertig!\")"
   ]
  },
  {
   "cell_type": "markdown",
   "id": "8e51f055-3ab1-4eba-bb95-85656959f3be",
   "metadata": {},
   "source": [
    "# Get Championpooldata"
   ]
  },
  {
   "cell_type": "code",
   "execution_count": 24,
   "id": "0f5d970d-6762-47d6-bdde-aead6c592b33",
   "metadata": {},
   "outputs": [],
   "source": [
    "import requests\n",
    "url = \"https://raw.communitydragon.org/latest/cdragon/tft/en_us.json\"\n",
    "r = requests.get(url)\n",
    "data = r.json()"
   ]
  },
  {
   "cell_type": "code",
   "execution_count": 31,
   "id": "eaf6e173-ba7c-424a-95de-bc74e5b177d2",
   "metadata": {},
   "outputs": [],
   "source": [
    "with open(\"champions_data.json\", \"w\", encoding=\"utf-8\") as f:\n",
    "    json.dump(data, f, indent=4, ensure_ascii=False)"
   ]
  },
  {
   "cell_type": "code",
   "execution_count": null,
   "id": "04071636-70d6-4b8c-b22e-2b78173753f3",
   "metadata": {},
   "outputs": [],
   "source": []
  }
 ],
 "metadata": {
  "kernelspec": {
   "display_name": "Python [conda env:base] *",
   "language": "python",
   "name": "conda-base-py"
  },
  "language_info": {
   "codemirror_mode": {
    "name": "ipython",
    "version": 3
   },
   "file_extension": ".py",
   "mimetype": "text/x-python",
   "name": "python",
   "nbconvert_exporter": "python",
   "pygments_lexer": "ipython3",
   "version": "3.12.7"
  }
 },
 "nbformat": 4,
 "nbformat_minor": 5
}
